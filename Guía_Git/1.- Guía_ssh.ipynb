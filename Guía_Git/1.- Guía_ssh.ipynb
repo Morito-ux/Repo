{
 "cells": [
  {
   "cell_type": "markdown",
   "metadata": {},
   "source": [
    "# GENERAR UNA NUEVA LLAVE SSH"
   ]
  },
  {
   "cell_type": "markdown",
   "metadata": {},
   "source": [
    "#### Descargar Git Bash\n",
    "\n",
    "Para seguir esta guía, necesitarás tener Git Bash instalado en tu sistema Windows.  Puedes descargarlo desde aquí:\n",
    "\n",
    "[Descarga Git para Windows](https://git-scm.com/download/win)"
   ]
  },
  {
   "cell_type": "markdown",
   "metadata": {},
   "source": [
    "Una vez descargado el instalador de Git, ejecútalo para completar la instalación. Luego, abre Git Bash buscando \"Git Bash\" en el menú de inicio de Windows.\n",
    "\n",
    "Pega el texto siguiente, reemplazando el correo electrónico usado en el ejemplo por tu dirección de correo electrónico de GitHub.\n",
    "\n",
    "```bash\n",
    "ssh-keygen -t ed25519 -C \"your_email@example.com\""
   ]
  },
  {
   "cell_type": "markdown",
   "metadata": {},
   "source": [
    "Un ejemplo:\n",
    "\n",
    "![Ejemplo](imagenes_ssh/1.png)"
   ]
  },
  {
   "cell_type": "markdown",
   "metadata": {},
   "source": [
    "Durante la ejecución de ssh-keygen, se te solicitará información en cuatro pasos:\n",
    "- Ubicación del archivo: Se presiona Enter para aceptar la ubicación predeterminada.\n",
    "- Frase de contraseña: Se presiona Enter para no establecer una frase de contraseña (no recomendado).\n",
    "- Confirmación de la frase de contraseña: Se presiona Enter nuevamente para confirmar la ausencia de frase de contraseña.\n",
    "- Finalización: Se presiona Enter para finalizar el proceso."
   ]
  },
  {
   "cell_type": "markdown",
   "metadata": {},
   "source": [
    "![Ejemplo](imagenes_ssh/5.png)"
   ]
  },
  {
   "cell_type": "markdown",
   "metadata": {},
   "source": [
    "Para usar tu clave SSH sin tener que introducir la frase de contraseña cada vez, necesitas iniciar el agente SSH.  Ejecuta el siguiente comando en tu terminal (Git Bash):\n",
    "\n",
    "```bash\n",
    "eval \"$(ssh-agent -s)\""
   ]
  },
  {
   "cell_type": "markdown",
   "metadata": {},
   "source": [
    "![Ejemplo](imagenes_ssh/12.png)"
   ]
  },
  {
   "cell_type": "markdown",
   "metadata": {},
   "source": [
    "Una vez que el agente SSH está en ejecución, agrega tu clave privada usando el siguiente comando:\n",
    "\n",
    "```bash\n",
    "ssh-add ~/.ssh/id_ed25519"
   ]
  },
  {
   "cell_type": "markdown",
   "metadata": {},
   "source": [
    "![Ejemplo](imagenes_ssh/14.png)"
   ]
  },
  {
   "cell_type": "markdown",
   "metadata": {},
   "source": [
    "Después de generar la clave SSH, abre el Explorador de archivos de Windows. Navega hasta tu carpeta de usuario (usualmente C:\\Users\\TuNombreDeUsuario). Dentro de esa carpeta, busca una carpeta oculta llamada .ssh. Dentro de la carpeta .ssh, encontrarás dos archivos: id_ed25519 (tu clave privada) e id_ed25519.pub (tu clave pública)."
   ]
  },
  {
   "cell_type": "markdown",
   "metadata": {},
   "source": [
    "![Ejemplo](imagenes_ssh/15.png)"
   ]
  },
  {
   "cell_type": "markdown",
   "metadata": {},
   "source": [
    "Abre el archivo \"id_ed25519.pub\" con el Bloc de notas y copia todo su contenido. A continuación, accede a tu cuenta de GitHub, haz clic en tu icono de perfil (usualmente en la esquina superior derecha), selecciona \"Configuración\", y busca la sección \"SSH keys\" o \"SSH and GPG keys\"."
   ]
  },
  {
   "cell_type": "markdown",
   "metadata": {},
   "source": [
    "![Ejemplo](imagenes_ssh/16.png)"
   ]
  },
  {
   "cell_type": "markdown",
   "metadata": {},
   "source": [
    "En la sección \"SSH keys\", busca un botón o enlace que diga \"Nueva SSH key\" o \"New SSH key\". Haz clic en él. Se te pedirá que proporciones un título para la clave (esto puede ser cualquier nombre descriptivo, por ejemplo, \"Clave para mi computadora\"). En el campo de texto que aparece debajo, pega el contenido que copiaste del archivo id_ed25519.pub."
   ]
  },
  {
   "cell_type": "markdown",
   "metadata": {},
   "source": [
    "![Ejemplo](imagenes_ssh/17.png)"
   ]
  },
  {
   "cell_type": "markdown",
   "metadata": {},
   "source": [
    "¡Listo! Tu clave SSH ha sido configurada."
   ]
  },
  {
   "cell_type": "markdown",
   "metadata": {},
   "source": [
    "![Ejemplo](imagenes_ssh/18.png)"
   ]
  }
 ],
 "metadata": {
  "language_info": {
   "name": "python"
  }
 },
 "nbformat": 4,
 "nbformat_minor": 2
}
