{
 "cells": [
  {
   "cell_type": "markdown",
   "metadata": {},
   "source": [
    "# Crear un repositorio en GitHub"
   ]
  },
  {
   "cell_type": "markdown",
   "metadata": {},
   "source": [
    "Para crear un nuevo repositorio, accede a tu cuenta de GitHub y haz clic en el botón \"Nuevo\" o \"Crear repositorio\" que se encuentra generalmente en la parte superior o izquierda de la página."
   ]
  },
  {
   "cell_type": "markdown",
   "metadata": {},
   "source": [
    "![Mi imagen](imagenes_repo/1a.png)"
   ]
  },
  {
   "cell_type": "markdown",
   "metadata": {},
   "source": [
    "Una vez que hayas hecho clic en \"Nuevo\" o \"Crear repositorio\", se te mostrará un formulario. En este formulario, deberás completar los siguientes campos:\n",
    "- Nombre del repositorio: Elige un nombre descriptivo para tu repositorio.\n",
    "- Visibilidad: Selecciona si el repositorio será público (visible para todos) o privado (solo visible para ti y aquellos a quienes des autorizo).\n",
    "- Archivo README: Puedes optar por incluir un archivo README para proporcionar una descripción de tu proyecto. Esto es opcional, y puedes agregarlo más tarde si lo deseas."
   ]
  },
  {
   "cell_type": "markdown",
   "metadata": {},
   "source": [
    "![Mi imagen](imagenes_repo/2a.png)"
   ]
  },
  {
   "cell_type": "markdown",
   "metadata": {},
   "source": [
    "Una vez que hayas completado el formulario, haz clic en \"Crear\". GitHub creará tu nuevo repositorio, incluyendo un commit inicial (un punto de control). Para empezar a trabajar en tu proyecto, clona este repositorio en tu computadora local. Esto creará una copia local donde podrás hacer cambios y subirlos a GitHub."
   ]
  },
  {
   "cell_type": "markdown",
   "metadata": {},
   "source": [
    "![Mi imagen](imagenes_repo/4a.png)"
   ]
  },
  {
   "cell_type": "markdown",
   "metadata": {},
   "source": [
    "En la página de tu repositorio recién creado en GitHub, busca la sección \"Code\". Debajo de \"Code\", verás varias opciones para copiar la URL del repositorio. Selecciona la opción \"SSH\" para obtener la URL que usarás con tu clave SSH. Copia esta URL."
   ]
  },
  {
   "cell_type": "markdown",
   "metadata": {},
   "source": [
    "![Mi imagen](imagenes_repo/5a.png)"
   ]
  },
  {
   "cell_type": "markdown",
   "metadata": {},
   "source": [
    " En tu computadora, crea una carpeta donde quieras guardar tus repositorios. Abre esta carpeta con Git Bash (o tu terminal Git)."
   ]
  },
  {
   "cell_type": "markdown",
   "metadata": {},
   "source": [
    "![Mi imagen](imagenes_repo/7a.png)"
   ]
  },
  {
   "cell_type": "markdown",
   "metadata": {},
   "source": [
    "Ejecuta el comando git clone, seguido de un espacio, y luego pega la URL que copiaste. Presiona Enter. Git clonará el repositorio en la carpeta que seleccionaste."
   ]
  },
  {
   "cell_type": "markdown",
   "metadata": {},
   "source": [
    "![Mi imagen](imagenes_repo/8a.png)"
   ]
  },
  {
   "cell_type": "markdown",
   "metadata": {},
   "source": [
    "Después de ejecutar el comando git clone, verifica que la clonación haya sido exitosa buscando la siguiente salida:"
   ]
  },
  {
   "cell_type": "markdown",
   "metadata": {},
   "source": [
    "![Mi imagen](imagenes_repo/10a.png)"
   ]
  },
  {
   "cell_type": "markdown",
   "metadata": {},
   "source": [
    "Una vez completado el proceso, abre la carpeta donde ejecutaste el comando git clone. Debes encontrar una nueva carpeta con el nombre de tu repositorio, lo que indica que la clonación se realizó correctamente."
   ]
  },
  {
   "cell_type": "markdown",
   "metadata": {},
   "source": [
    "![Mi imagen](imagenes_repo/11a.png)"
   ]
  },
  {
   "cell_type": "markdown",
   "metadata": {},
   "source": [
    "Con el repositorio creado, ya puedes comenzar a trabajar en tu proyecto. Crea un archivo llamado index.html en la carpeta del repositorio."
   ]
  },
  {
   "cell_type": "markdown",
   "metadata": {},
   "source": [
    "![Mi imagen](imagenes_repo/12aa.png)"
   ]
  },
  {
   "cell_type": "markdown",
   "metadata": {},
   "source": [
    "Una vez que hayas creado tu archivo index.html y le hayas añadido contenido, usa estos comandos de Git para guardar y subir tus cambios a GitHub:\n",
    "- git add index.html: Este comando agrega el archivo index.html al área de staging de Git, preparándolo para el commit. Usar git add . agregará todos los archivos modificados en el directorio actual. Es mejor ser específico y agregar solo los archivos que quieres incluir en el commit.\n",
    "\n",
    "- git commit -m \"Tu mensaje descriptivo\": Este comando crea un commit con los cambios que has agregado al área de staging. Reemplaza \"Tu mensaje descriptivo\" con una descripción concisa de los cambios (por ejemplo, \"Se añadió el archivo index.html\").\n",
    "\n",
    "- git push origin <nombre_de_rama>: Este comando sube (push) tus commits al repositorio remoto en GitHub. Reemplaza <nombre_de_rama> con el nombre de tu rama (generalmente main o master)."
   ]
  },
  {
   "cell_type": "markdown",
   "metadata": {},
   "source": [
    "![Mi imagen](imagenes_repo/12a.png)"
   ]
  },
  {
   "cell_type": "markdown",
   "metadata": {},
   "source": [
    "¡Listo! Tu primer commit ha sido creado y está visible en GitHub."
   ]
  },
  {
   "cell_type": "markdown",
   "metadata": {},
   "source": [
    "![Mi imagen](imagenes_repo/13a.png)"
   ]
  },
  {
   "cell_type": "markdown",
   "metadata": {},
   "source": [
    "Para modificar un archivo y crear un nuevo commit, sigue estos pasos:\n",
    "\n",
    "- Abre el archivo que quieres modificar (en este caso será en index que creamos).\n",
    "\n",
    "- Haz los cambios que necesites.\n"
   ]
  },
  {
   "cell_type": "markdown",
   "metadata": {},
   "source": [
    "![Mi imagen](imagenes_repo/14a.png)"
   ]
  },
  {
   "cell_type": "markdown",
   "metadata": {},
   "source": [
    "Agrega los cambios al área de staging usando el comando git add <nombre_del_archivo>. Reemplaza <nombre_del_archivo> con el nombre real del archivo que modificaste.\n",
    "- Crea un commit usando el comando git commit -m \"Tu mensaje descriptivo\". Reemplaza \"Tu mensaje descriptivo\" con una descripción concisa de los cambios que hiciste."
   ]
  },
  {
   "cell_type": "markdown",
   "metadata": {},
   "source": [
    "![Mi imagen](imagenes_repo/15a.png)"
   ]
  }
 ],
 "metadata": {
  "language_info": {
   "name": "python"
  }
 },
 "nbformat": 4,
 "nbformat_minor": 2
}
